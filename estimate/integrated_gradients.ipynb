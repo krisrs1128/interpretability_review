{
 "cells": [
  {
   "cell_type": "code",
   "execution_count": null,
   "metadata": {},
   "outputs": [],
   "source": [
    "import pandas as pd\n",
    "from torch.utils.data import DataLoader\n",
    "from transformer import LinearData, Transformer, LitTransformer\n",
    "\n",
    "# use the data from ../generate\n",
    "samples_df = pd.read_csv(\"../data/blooms.csv\")\n",
    "dataset = LinearData(samples_df)\n",
    "loader = DataLoader(dataset, batch_size = 64)"
   ]
  },
  {
   "cell_type": "code",
   "execution_count": null,
   "metadata": {},
   "outputs": [],
   "source": [
    "from captum.attr import IntegratedGradients\n",
    "\n",
    "checkpoint = \"lightning_logs/version_0/checkpoints/epoch=39-step=1280.ckpt\"\n",
    "lit_model = LitTransformer.load_from_checkpoint(checkpoint, model = Transformer())\n",
    "\n",
    "def forward(model):\n",
    "  return lambda x: model(x)[1]\n",
    "\n",
    "ig = IntegratedGradients(forward(lit_model.model))\n",
    "x, y = next(iter(loader))\n",
    "i_hat = ig.attribute(x)"
   ]
  },
  {
   "cell_type": "code",
   "execution_count": 9,
   "metadata": {},
   "outputs": [],
   "source": [
    "import numpy as np\n",
    "i_hat.shape\n",
    "np.savetxt(\"../data/attributions.csv\", np.reshape(i_hat, (64, -1)), delimiter=',')"
   ]
  },
  {
   "cell_type": "code",
   "execution_count": null,
   "metadata": {},
   "outputs": [],
   "source": []
  }
 ],
 "metadata": {
  "kernelspec": {
   "display_name": "interpretability",
   "language": "python",
   "name": "python3"
  },
  "language_info": {
   "codemirror_mode": {
    "name": "ipython",
    "version": 3
   },
   "file_extension": ".py",
   "mimetype": "text/x-python",
   "name": "python",
   "nbconvert_exporter": "python",
   "pygments_lexer": "ipython3",
   "version": "3.12.1"
  }
 },
 "nbformat": 4,
 "nbformat_minor": 2
}
