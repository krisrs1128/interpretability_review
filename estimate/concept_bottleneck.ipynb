{
 "cells": [
  {
   "cell_type": "markdown",
   "metadata": {},
   "source": [
    "### Data Loader\n",
    "\n",
    "Before we can estimate any model, we should load in the data that we created in `linear.Rmd`. We'll reshape it so that we can sample random subjects in each batch."
   ]
  },
  {
   "cell_type": "code",
   "execution_count": null,
   "metadata": {},
   "outputs": [],
   "source": [
    "import pandas as pd\n",
    "from torch.utils.data import DataLoader\n",
    "from concept import ConceptData\n",
    "\n",
    "# use the data from ../generate\n",
    "samples_df = pd.read_csv(\"../data/blooms.csv\")\n",
    "concepts = pd.read_csv(\"../data/concepts.csv\")\n",
    "\n",
    "dataset = ConceptData(samples_df, concepts)\n",
    "loader = DataLoader(dataset, batch_size=16)\n"
   ]
  },
  {
   "cell_type": "markdown",
   "metadata": {},
   "source": [
    "We can now train the model based on the input data loader, using a lightning trainer."
   ]
  },
  {
   "cell_type": "code",
   "execution_count": null,
   "metadata": {},
   "outputs": [],
   "source": [
    "import lightning as L\n",
    "from concept import ConceptBottleneck, LitConcept\n",
    "\n",
    "concepts\n",
    "model = ConceptBottleneck()\n",
    "lit_model = LitConcept(model)\n",
    "trainer = L.Trainer(max_epochs=40, default_root_dir=\"concept_logs\")\n",
    "trainer.fit(model=lit_model, train_dataloaders=loader)"
   ]
  },
  {
   "cell_type": "code",
   "execution_count": null,
   "metadata": {},
   "outputs": [],
   "source": [
    "import torch\n",
    "\n",
    "lit_model.model.eval()\n",
    "p_hat = []\n",
    "with torch.no_grad():\n",
    "  for x, c, _ in loader:\n",
    "    p_hat.append(lit_model.model(x)[1])\n",
    "\n",
    "pd.DataFrame(torch.concatenate(p_hat)).to_csv(\"../data/p_hat_concept.csv\")"
   ]
  },
  {
   "cell_type": "markdown",
   "metadata": {},
   "source": [
    "For future reference, here were the packages we installed for this package.\n",
    "\n",
    "```\n",
    "conda install conda-forge::lightning\n",
    "conda install conda-forge::pandas\n",
    "conda install conda-forge::tensorboard\n",
    "conda install pytorch::captum\n",
    "```"
   ]
  },
  {
   "cell_type": "markdown",
   "metadata": {},
   "source": []
  }
 ],
 "metadata": {
  "kernelspec": {
   "display_name": "interpretability",
   "language": "python",
   "name": "python3"
  },
  "language_info": {
   "codemirror_mode": {
    "name": "ipython",
    "version": 3
   },
   "file_extension": ".py",
   "mimetype": "text/x-python",
   "name": "python",
   "nbconvert_exporter": "python",
   "pygments_lexer": "ipython3",
   "version": "3.12.1"
  }
 },
 "nbformat": 4,
 "nbformat_minor": 2
}
