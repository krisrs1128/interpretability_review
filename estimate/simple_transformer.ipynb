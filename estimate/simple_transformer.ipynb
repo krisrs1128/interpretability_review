{
 "cells": [
  {
   "cell_type": "markdown",
   "metadata": {},
   "source": [
    "### Data Loader\n",
    "\n",
    "Before we can estimate any model, we should load in the data that we created in `linear.Rmd`. We'll reshape it so that we can sample random subjects in each batch."
   ]
  },
  {
   "cell_type": "code",
   "execution_count": 1,
   "metadata": {},
   "outputs": [
    {
     "name": "stderr",
     "output_type": "stream",
     "text": [
      "/Users/ksankaran/miniconda3/envs/interpretability/lib/python3.12/site-packages/tqdm/auto.py:21: TqdmWarning: IProgress not found. Please update jupyter and ipywidgets. See https://ipywidgets.readthedocs.io/en/stable/user_install.html\n",
      "  from .autonotebook import tqdm as notebook_tqdm\n"
     ]
    }
   ],
   "source": [
    "import pandas as pd\n",
    "from torch.utils.data import DataLoader\n",
    "from transformer import LinearData\n",
    "from transformer import Transformer\n",
    "\n",
    "# use the data from ../generate\n",
    "samples_df = pd.read_csv(\"../data/blooms.csv\")\n",
    "\n",
    "dataset = LinearData(samples_df)\n",
    "loader = DataLoader(dataset, batch_size=16)\n",
    "x, y = next(iter(loader))\n"
   ]
  },
  {
   "cell_type": "markdown",
   "metadata": {},
   "source": [
    "Next, we let's define a model with a forward function that lets us get predicted probabilities for the two classes given the historical microbiome profile so far."
   ]
  },
  {
   "cell_type": "code",
   "execution_count": 2,
   "metadata": {},
   "outputs": [],
   "source": [
    "import torch\n",
    "\n",
    "model = Transformer()\n",
    "z, probs = model(torch.randn((16, 50, 144)))"
   ]
  },
  {
   "cell_type": "markdown",
   "metadata": {},
   "source": [
    "We can now train the model based on the input data loader, using a lightning trainer."
   ]
  },
  {
   "cell_type": "code",
   "execution_count": 3,
   "metadata": {},
   "outputs": [
    {
     "name": "stderr",
     "output_type": "stream",
     "text": [
      "GPU available: False, used: False\n",
      "TPU available: False, using: 0 TPU cores\n",
      "IPU available: False, using: 0 IPUs\n",
      "HPU available: False, using: 0 HPUs\n",
      "\n",
      "  | Name  | Type        | Params\n",
      "--------------------------------------\n",
      "0 | model | Transformer | 8.5 M \n",
      "--------------------------------------\n",
      "8.5 M     Trainable params\n",
      "0         Non-trainable params\n",
      "8.5 M     Total params\n",
      "34.021    Total estimated model params size (MB)\n",
      "/Users/ksankaran/miniconda3/envs/interpretability/lib/python3.12/site-packages/lightning/pytorch/trainer/connectors/data_connector.py:441: The 'train_dataloader' does not have many workers which may be a bottleneck. Consider increasing the value of the `num_workers` argument` to `num_workers=3` in the `DataLoader` to improve performance.\n",
      "/Users/ksankaran/miniconda3/envs/interpretability/lib/python3.12/site-packages/lightning/pytorch/loops/fit_loop.py:293: The number of training batches (32) is smaller than the logging interval Trainer(log_every_n_steps=50). Set a lower value for log_every_n_steps if you want to see logs for the training epoch.\n"
     ]
    },
    {
     "name": "stdout",
     "output_type": "stream",
     "text": [
      "Epoch 39: 100%|██████████| 32/32 [00:06<00:00,  5.04it/s, v_num=0]"
     ]
    },
    {
     "name": "stderr",
     "output_type": "stream",
     "text": [
      "`Trainer.fit` stopped: `max_epochs=40` reached.\n"
     ]
    },
    {
     "name": "stdout",
     "output_type": "stream",
     "text": [
      "Epoch 39: 100%|██████████| 32/32 [00:06<00:00,  4.97it/s, v_num=0]\n"
     ]
    }
   ],
   "source": [
    "import lightning as L\n",
    "from transformer import LitTransformer\n",
    "\n",
    "lit_model = LitTransformer(model)\n",
    "trainer = L.Trainer(max_epochs=40)\n",
    "trainer.fit(model=lit_model, train_dataloaders=loader)"
   ]
  },
  {
   "cell_type": "code",
   "execution_count": 4,
   "metadata": {},
   "outputs": [],
   "source": [
    "lit_model.model.eval()\n",
    "p_hat = []\n",
    "with torch.no_grad():\n",
    "  for x, _ in loader:\n",
    "    p_hat.append(lit_model.model(x)[1])\n",
    "\n",
    "pd.DataFrame(torch.concatenate(p_hat)).to_csv(\"../data/p_hat.csv\")"
   ]
  },
  {
   "cell_type": "markdown",
   "metadata": {},
   "source": [
    "For future reference, here were the packages we installed for this package.\n",
    "\n",
    "```\n",
    "conda install conda-forge::lightning\n",
    "conda install conda-forge::pandas\n",
    "conda install conda-forge::tensorboard\n",
    "conda install pytorch::captum\n",
    "```"
   ]
  },
  {
   "cell_type": "markdown",
   "metadata": {},
   "source": []
  }
 ],
 "metadata": {
  "kernelspec": {
   "display_name": "interpretability",
   "language": "python",
   "name": "python3"
  },
  "language_info": {
   "codemirror_mode": {
    "name": "ipython",
    "version": 3
   },
   "file_extension": ".py",
   "mimetype": "text/x-python",
   "name": "python",
   "nbconvert_exporter": "python",
   "pygments_lexer": "ipython3",
   "version": "3.12.1"
  }
 },
 "nbformat": 4,
 "nbformat_minor": 2
}
