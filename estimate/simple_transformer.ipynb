{
 "cells": [
  {
   "cell_type": "markdown",
   "metadata": {},
   "source": [
    "### Data Loader\n",
    "\n",
    "Before we can estimate any model, we should load in the data that we created in `linear.Rmd`. We'll reshape it so that we can sample random subjects in each batch."
   ]
  },
  {
   "cell_type": "code",
   "execution_count": null,
   "metadata": {},
   "outputs": [],
   "source": [
    "import pandas as pd\n",
    "\n",
    "samples_df = pd.read_csv(\"../data/linear.csv\")\n",
    "print(samples_df)\n",
    "\n",
    "samples_array = samples_df.pivot(index=[\"subject\", \"time\", \"class\"], columns=\"taxon\")\n"
   ]
  },
  {
   "cell_type": "code",
   "execution_count": null,
   "metadata": {},
   "outputs": [],
   "source": [
    "samples_df[samples_df[\"subject\"] == \"subject_1\"]\n",
    "\n",
    "samples_df[\"subject\"].unique()"
   ]
  },
  {
   "cell_type": "markdown",
   "metadata": {},
   "source": [
    "Next, we let's write a model with a forward function that lets us get predicted probabilities for the two classes given the historical microbiome profile so far."
   ]
  },
  {
   "cell_type": "code",
   "execution_count": null,
   "metadata": {},
   "outputs": [],
   "source": [
    "import torch\n",
    "import numpy as np\n",
    "from torch.utils.data import Dataset, DataLoader\n",
    "\n",
    "class LinearData(Dataset):\n",
    "  def __init__(self, data):\n",
    "    self.data = data\n",
    "    self.subjects = data[\"subject\"].unique()\n",
    "\n",
    "  def __len__(self):\n",
    "    return len(self.subjects)\n",
    "\n",
    "  def __getitem__(self, index):\n",
    "    samples = self.data[self.data[\"subject\"] == self.subjects[index]]\n",
    "    #import pdb\n",
    "    #pdb.set_trace()\n",
    "    x = samples.pivot(index=\"time\", columns=\"taxon\", values=\"Freq\")\n",
    "    y = [samples[\"class\"].values[0]]\n",
    "    return np.array(x).T, y\n",
    "\n",
    "\n",
    "dataset = LinearData(samples_df)\n",
    "loader = DataLoader(dataset, batch_size = 16)"
   ]
  },
  {
   "cell_type": "markdown",
   "metadata": {},
   "source": [
    "We can now train the model based on the input data loader, using a lightning trainer."
   ]
  },
  {
   "cell_type": "markdown",
   "metadata": {},
   "source": [
    "For future reference, here were the packages we installed for this package.\n",
    "\n",
    "```\n",
    "conda install conda-forge::pytorch-lightning\n",
    "conda install conda-forge::pandas\n",
    "```"
   ]
  },
  {
   "cell_type": "markdown",
   "metadata": {},
   "source": []
  }
 ],
 "metadata": {
  "kernelspec": {
   "display_name": "interpretability",
   "language": "python",
   "name": "python3"
  },
  "language_info": {
   "codemirror_mode": {
    "name": "ipython",
    "version": 3
   },
   "file_extension": ".py",
   "mimetype": "text/x-python",
   "name": "python",
   "nbconvert_exporter": "python",
   "pygments_lexer": "ipython3",
   "version": "3.12.1"
  }
 },
 "nbformat": 4,
 "nbformat_minor": 2
}
