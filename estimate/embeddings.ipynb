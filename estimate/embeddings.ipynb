{
 "cells": [
  {
   "cell_type": "markdown",
   "metadata": {},
   "source": [
    "## Save Model Embeddings\n",
    "\n",
    "This notebook saves embeddings from the transformer model into a csv. These outputs are visualized in `embeddings.Rmd`. First, let's define all of our notebook parameters."
   ]
  },
  {
   "cell_type": "code",
   "execution_count": 1,
   "metadata": {},
   "outputs": [],
   "source": [
    "input_path = \"../data/blooms.csv\"\n",
    "checkpoint = \"lightning_logs/version_0/checkpoints/epoch=69-step=1680.ckpt\"\n",
    "output_path = \"../data/embeddings.csv\"\n",
    "device = \"mps\""
   ]
  },
  {
   "cell_type": "markdown",
   "metadata": {},
   "source": [
    "The block below defines a loader with all the trajectory data (training and validation). It computes the embeddings for each sample by looping over the loader. Note that our transformer definition deliberately saved the learned, pre-prediction representations, so we don't need to do any complicated surgery on the model."
   ]
  },
  {
   "cell_type": "code",
   "execution_count": 2,
   "metadata": {},
   "outputs": [],
   "source": [
    "import torch\n",
    "import pandas as pd\n",
    "from torch.utils.data import DataLoader\n",
    "from transformer import LinearData, Transformer, LitTransformer\n",
    "\n",
    "samples_df = pd.read_csv(input_path)\n",
    "dataset = LinearData(samples_df)\n",
    "loader = DataLoader(dataset, batch_size=64)\n",
    "lit_model = LitTransformer.load_from_checkpoint(checkpoint, model = Transformer())\n",
    "\n",
    "z = []\n",
    "with torch.no_grad():\n",
    "  for x, _ in loader:\n",
    "    z_, _ = lit_model.model(x.to(device))\n",
    "    z.append(z_[0])"
   ]
  },
  {
   "cell_type": "markdown",
   "metadata": {},
   "source": [
    "We can now convert those embeddings to a numpy array and save them to file."
   ]
  },
  {
   "cell_type": "code",
   "execution_count": 3,
   "metadata": {},
   "outputs": [],
   "source": [
    "import numpy as np\n",
    "\n",
    "z0 = torch.cat(z, dim=0)\n",
    "z0 = z0.view(z0.size(0), -1).cpu().numpy()\n",
    "np.savetxt(output_path, z0, delimiter=',')"
   ]
  }
 ],
 "metadata": {
  "kernelspec": {
   "display_name": "interpretability",
   "language": "python",
   "name": "python3"
  },
  "language_info": {
   "codemirror_mode": {
    "name": "ipython",
    "version": 3
   },
   "file_extension": ".py",
   "mimetype": "text/x-python",
   "name": "python",
   "nbconvert_exporter": "python",
   "pygments_lexer": "ipython3",
   "version": "3.12.2"
  }
 },
 "nbformat": 4,
 "nbformat_minor": 2
}
