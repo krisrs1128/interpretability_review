{
 "cells": [
  {
   "cell_type": "markdown",
   "metadata": {},
   "source": [
    "### Data Loader\n",
    "\n",
    "Before we can estimate any model, we should load in the data that we created in `linear.Rmd`. We'll reshape it so that we can sample random subjects in each batch."
   ]
  },
  {
   "cell_type": "code",
   "execution_count": null,
   "metadata": {},
   "outputs": [],
   "source": [
    "import pandas as pd\n",
    "import torch\n",
    "from torch.utils.data import DataLoader, Subset\n",
    "from transformer import LinearData\n",
    "from transformer import Transformer\n",
    "\n",
    "# use the data from ../generate\n",
    "samples_df = pd.read_csv(\"../data/blooms.csv\")\n",
    "\n",
    "dataset = LinearData(samples_df)\n",
    "train, validation = Subset(dataset, torch.arange(375)), Subset(dataset, torch.arange(375, 500))\n",
    "loaders = {\n",
    "  \"train\": DataLoader(train, batch_size=16),\n",
    "  \"validate\": DataLoader(validation, batch_size=16)\n",
    "}"
   ]
  },
  {
   "cell_type": "markdown",
   "metadata": {},
   "source": [
    "Next, we let's define a model with a forward function that lets us get predicted probabilities for the two classes given the historical microbiome profile so far."
   ]
  },
  {
   "cell_type": "code",
   "execution_count": null,
   "metadata": {},
   "outputs": [],
   "source": [
    "model = Transformer()\n",
    "z, probs = model(torch.randn((16, 50, 144)))"
   ]
  },
  {
   "cell_type": "markdown",
   "metadata": {},
   "source": [
    "We can now train the model based on the input data loader, using a lightning trainer."
   ]
  },
  {
   "cell_type": "code",
   "execution_count": null,
   "metadata": {},
   "outputs": [],
   "source": [
    "import lightning as L\n",
    "from transformer import LitTransformer\n",
    "\n",
    "lit_model = LitTransformer(model)\n",
    "trainer = L.Trainer(max_epochs=100)\n",
    "trainer.fit(lit_model, loaders[\"train\"], loaders[\"validate\"])"
   ]
  },
  {
   "cell_type": "code",
   "execution_count": null,
   "metadata": {},
   "outputs": [],
   "source": [
    "lit_model.model.eval()\n",
    "p_hat = []\n",
    "with torch.no_grad():\n",
    "  for x, _ in loaders[\"train\"]:\n",
    "    p_hat.append(lit_model.model(x)[1])\n",
    "\n",
    "  for x, _ in loaders[\"validate\"]:\n",
    "    p_hat.append(lit_model.model(x)[1])\n",
    "\n",
    "pd.DataFrame(torch.concatenate(p_hat)).to_csv(\"../data/p_hat.csv\")"
   ]
  },
  {
   "cell_type": "markdown",
   "metadata": {},
   "source": [
    "For future reference, here were the packages we installed for this package.\n",
    "\n",
    "```\n",
    "conda install conda-forge::lightning\n",
    "conda install conda-forge::pandas\n",
    "conda install conda-forge::tensorboard\n",
    "conda install pytorch::captum\n",
    "```"
   ]
  },
  {
   "cell_type": "markdown",
   "metadata": {},
   "source": []
  }
 ],
 "metadata": {
  "kernelspec": {
   "display_name": "interpretability",
   "language": "python",
   "name": "python3"
  },
  "language_info": {
   "codemirror_mode": {
    "name": "ipython",
    "version": 3
   },
   "file_extension": ".py",
   "mimetype": "text/x-python",
   "name": "python",
   "nbconvert_exporter": "python",
   "pygments_lexer": "ipython3",
   "version": "3.12.1"
  }
 },
 "nbformat": 4,
 "nbformat_minor": 2
}
