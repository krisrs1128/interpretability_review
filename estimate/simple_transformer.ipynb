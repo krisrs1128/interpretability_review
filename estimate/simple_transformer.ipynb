{
 "cells": [
  {
   "cell_type": "markdown",
   "metadata": {},
   "source": [
    "### Data Loader\n",
    "\n",
    "Before we can estimate any model, we should load in the data that we created in `linear.Rmd`. We'll reshape it so that we can sample random subjects in each batch."
   ]
  },
  {
   "cell_type": "code",
   "execution_count": null,
   "metadata": {},
   "outputs": [],
   "source": [
    "import pandas as pd\n",
    "import numpy as np\n",
    "from torch.utils.data import Dataset, DataLoader\n",
    "\n",
    "class LinearData(Dataset):\n",
    "  def __init__(self, data):\n",
    "    self.data = data\n",
    "    self.subjects = data[\"subject\"].unique()\n",
    "\n",
    "  def __len__(self):\n",
    "    return len(self.subjects)\n",
    "\n",
    "  def __getitem__(self, index):\n",
    "    samples = self.data[self.data[\"subject\"] == self.subjects[index]]\n",
    "    x = samples.pivot(index=\"time\", columns=\"taxon\", values=\"Freq\")\n",
    "    y = [1.0 * (samples[\"class\"].values[0] == \"healthy\")]\n",
    "    return np.array(x), torch.Tensor(y)\n",
    "\n",
    "# use the data from ../generate\n",
    "samples_df = pd.read_csv(\"../data/linear.csv\")\n",
    "dataset = LinearData(samples_df)\n",
    "loader = DataLoader(dataset, batch_size = 16)\n",
    "next(iter(loader))\n"
   ]
  },
  {
   "cell_type": "markdown",
   "metadata": {},
   "source": [
    "Next, we let's write a model with a forward function that lets us get predicted probabilities for the two classes given the historical microbiome profile so far."
   ]
  },
  {
   "cell_type": "code",
   "execution_count": null,
   "metadata": {},
   "outputs": [],
   "source": [
    "from torch import nn\n",
    "from transformers import GPT2Config, GPT2Model\n",
    "\n",
    "class Transformer(nn.Module):\n",
    "  def __init__(self, n_embd=300, n_positions=25, n_layer=5, n_class=2):\n",
    "    super(Transformer, self).__init__()\n",
    "    config = GPT2Config(n_embd=n_embd, n_positions=n_positions, n_layer=n_layer)\n",
    "    self.backbone = GPT2Model(config)\n",
    "    self.logits = nn.Linear(n_embd * n_positions, n_class - 1)\n",
    "\n",
    "  def forward(self, x):\n",
    "    z = self.backbone(inputs_embeds=x)\n",
    "    return z, self.logits(z.last_hidden_state.view(x.shape[0], -1))\n",
    "\n",
    "model = Transformer()\n",
    "z, probs = model(torch.randn((16, 25, 300)))"
   ]
  },
  {
   "cell_type": "markdown",
   "metadata": {},
   "source": [
    "We can now train the model based on the input data loader, using a lightning trainer."
   ]
  },
  {
   "cell_type": "code",
   "execution_count": null,
   "metadata": {},
   "outputs": [],
   "source": [
    "import lightning as L\n",
    "from torch import optim\n",
    "\n",
    "# define the LightningModule\n",
    "class LitTransformer(L.LightningModule):\n",
    "    def __init__(self, model):\n",
    "        super().__init__()\n",
    "        self.model = model\n",
    "\n",
    "    def training_step(self, batch, index):\n",
    "        x, y = batch\n",
    "        _, p_hat = self.model(x)\n",
    "        loss = nn.functional.binary_cross_entropy_with_logits(p_hat, y)\n",
    "        self.log(\"train_loss\", loss)\n",
    "        return loss\n",
    "\n",
    "    def configure_optimizers(self):\n",
    "        optimizer = optim.Adam(self.parameters(), lr=1e-3)\n",
    "        return optimizer\n",
    "\n",
    "\n",
    "# init the autoencoder\n",
    "lit_model = LitTransformer(model)\n",
    "trainer = L.Trainer(max_epochs=1)\n",
    "trainer.fit(model=lit_model, train_dataloaders=loader)"
   ]
  },
  {
   "cell_type": "code",
   "execution_count": null,
   "metadata": {},
   "outputs": [],
   "source": [
    "lit_model.model.eval()\n",
    "\n",
    "p_hat = []\n",
    "with torch.no_grad():\n",
    "  for x, _ in loader:\n",
    "    p_hat.append(lit_model.model(x)[1])\n",
    "\n",
    "pd.DataFrame(torch.concatenate(p_hat)).to_csv(\"../data/p_hat.csv\")"
   ]
  },
  {
   "cell_type": "markdown",
   "metadata": {},
   "source": [
    "For future reference, here were the packages we installed for this package.\n",
    "\n",
    "```\n",
    "conda install conda-forge::pytorch-lightning\n",
    "conda install conda-forge::pandas\n",
    "conda install conda-forge::tensorboard\n",
    "```"
   ]
  },
  {
   "cell_type": "markdown",
   "metadata": {},
   "source": []
  }
 ],
 "metadata": {
  "kernelspec": {
   "display_name": "interpretability",
   "language": "python",
   "name": "python3"
  },
  "language_info": {
   "codemirror_mode": {
    "name": "ipython",
    "version": 3
   },
   "file_extension": ".py",
   "mimetype": "text/x-python",
   "name": "python",
   "nbconvert_exporter": "python",
   "pygments_lexer": "ipython3",
   "version": "3.12.1"
  }
 },
 "nbformat": 4,
 "nbformat_minor": 2
}
