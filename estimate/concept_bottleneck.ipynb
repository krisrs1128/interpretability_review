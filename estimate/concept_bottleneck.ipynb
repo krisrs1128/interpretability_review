{
 "cells": [
  {
   "cell_type": "markdown",
   "metadata": {},
   "source": [
    "### Data Loader\n",
    "\n",
    "Before we can estimate any model, we should load in the data that we created in `concept.Rmd`. We'll reshape it so that we can sample random subjects in each batch."
   ]
  },
  {
   "cell_type": "code",
   "execution_count": null,
   "metadata": {},
   "outputs": [],
   "source": [
    "import pandas as pd\n",
    "import torch\n",
    "from torch.utils.data import DataLoader, Subset\n",
    "from concept import ConceptData\n",
    "\n",
    "# use the data from ../generate\n",
    "torch.manual_seed(20240210)\n",
    "samples_df = pd.read_csv(\"../data/blooms.csv\")\n",
    "concepts = pd.read_csv(\"../data/concepts.csv\")\n",
    "\n",
    "dataset = ConceptData(samples_df, concepts)\n",
    "train, validation = Subset(dataset, torch.arange(375)), Subset(dataset, torch.arange(375, 500))\n",
    "loaders = {\n",
    "  \"train\": DataLoader(train, batch_size=16),\n",
    "  \"validate\": DataLoader(validation, batch_size=16)\n",
    "}"
   ]
  },
  {
   "cell_type": "markdown",
   "metadata": {},
   "source": [
    "We can now train the model based on the input data loader, using a lightning trainer."
   ]
  },
  {
   "cell_type": "code",
   "execution_count": null,
   "metadata": {},
   "outputs": [],
   "source": [
    "import lightning as L\n",
    "from concept import ConceptBottleneck, LitConcept\n",
    "\n",
    "concepts\n",
    "model = ConceptBottleneck()\n",
    "lit_model = LitConcept(model)\n",
    "trainer = L.Trainer(max_epochs=100, default_root_dir=\"concept_logs\")\n",
    "trainer.fit(lit_model, loaders[\"train\"], loaders[\"validate\"])"
   ]
  },
  {
   "cell_type": "code",
   "execution_count": null,
   "metadata": {},
   "outputs": [],
   "source": [
    "import torch\n",
    "\n",
    "lit_model.model.eval()\n",
    "p_hat = []\n",
    "with torch.no_grad():\n",
    "  for x, c, _ in loaders[\"train\"]:\n",
    "    p_hat.append(lit_model.model(x)[1])\n",
    "  for x, c, _ in loaders[\"validate\"]:\n",
    "    p_hat.append(lit_model.model(x)[1])\n",
    "\n",
    "pd.DataFrame(torch.concatenate(p_hat)).to_csv(\"../data/p_hat_concept.csv\")"
   ]
  },
  {
   "cell_type": "markdown",
   "metadata": {},
   "source": [
    "For future reference, here were the packages we installed for this package.\n",
    "\n",
    "```\n",
    "conda create -n interpretability python=3.12\n",
    "conda activate interpretability\n",
    "\n",
    "conda install -y conda-forge::lightning\n",
    "conda install -y conda-forge::pandas\n",
    "conda install -y conda-forge::tensorboard\n",
    "conda install -y conda-forge::transformers\n",
    "conda install -y pytorch::captum\n",
    "```"
   ]
  },
  {
   "cell_type": "markdown",
   "metadata": {},
   "source": []
  }
 ],
 "metadata": {
  "kernelspec": {
   "display_name": "interpretability",
   "language": "python",
   "name": "python3"
  },
  "language_info": {
   "codemirror_mode": {
    "name": "ipython",
    "version": 3
   },
   "file_extension": ".py",
   "mimetype": "text/x-python",
   "name": "python",
   "nbconvert_exporter": "python",
   "pygments_lexer": "ipython3",
   "version": "3.12.2"
  }
 },
 "nbformat": 4,
 "nbformat_minor": 2
}
