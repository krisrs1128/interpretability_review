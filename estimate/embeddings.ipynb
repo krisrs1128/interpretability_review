{
 "cells": [
  {
   "cell_type": "code",
   "execution_count": null,
   "metadata": {},
   "outputs": [],
   "source": [
    "import pandas as pd\n",
    "from torch.utils.data import DataLoader\n",
    "from transformer import LinearData, Transformer, LitTransformer\n",
    "\n",
    "# use the data from ../generate\n",
    "samples_df = pd.read_csv(\"../data/blooms.csv\")\n",
    "dataset = LinearData(samples_df)\n",
    "loader = DataLoader(dataset, batch_size = 16)\n",
    "\n",
    "checkpoint = \"lightning_logs/version_25/checkpoints/epoch=19-step=640.ckpt\"\n",
    "lit_model = LitTransformer.load_from_checkpoint(checkpoint, model = Transformer())\n",
    "\n",
    "z = []\n",
    "i = 1\n",
    "\n",
    "with torch.no_grad():\n",
    "\n",
    "  for x, y in loader:\n",
    "    print(i)\n",
    "    i += 1\n",
    "    z_, _ = lit_model.model(x)\n",
    "    z.append(z_[0])"
   ]
  },
  {
   "cell_type": "code",
   "execution_count": null,
   "metadata": {},
   "outputs": [],
   "source": [
    "\n",
    "import torch\n",
    "import numpy as np\n",
    "\n",
    "z0 = torch.cat(z, dim=0)\n",
    "z0 = z0.view(z0.size(0), -1).numpy()\n",
    "np.savetxt(\"../data/embeddings.csv\", z0, delimiter=',')\n"
   ]
  },
  {
   "cell_type": "code",
   "execution_count": null,
   "metadata": {},
   "outputs": [],
   "source": [
    "z0.shape"
   ]
  },
  {
   "cell_type": "code",
   "execution_count": null,
   "metadata": {},
   "outputs": [],
   "source": []
  }
 ],
 "metadata": {
  "kernelspec": {
   "display_name": "interpretability",
   "language": "python",
   "name": "python3"
  },
  "language_info": {
   "codemirror_mode": {
    "name": "ipython",
    "version": 3
   },
   "file_extension": ".py",
   "mimetype": "text/x-python",
   "name": "python",
   "nbconvert_exporter": "python",
   "pygments_lexer": "ipython3",
   "version": "3.12.1"
  }
 },
 "nbformat": 4,
 "nbformat_minor": 2
}
